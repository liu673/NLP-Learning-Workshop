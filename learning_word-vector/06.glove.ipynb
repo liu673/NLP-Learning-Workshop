{
 "cells": [
  {
   "cell_type": "markdown",
   "source": [
    "# GLOVE\n",
    "\n",
    "GloVe (Global Vectors for Word Representation)是一种无监督的文本向量化的学习算法，由斯坦福大学的Jeffrey Pennington等在2014年提出。它通过捕捉单词在大规模语料库中的共现统计信息，生成高质量的词向量。GloVe的作者认为使用共现词的概率的比可以更好地区分相关和无关的词，因此GloVe的核心是共现矩阵和词对共现概率。共现矩阵中的每个元素Xi,j表示词j出现在词i的上下文中的次数。\n",
    "\n",
    "一个基于全局词频统计（count-based & overall statistics）的词表征（word representation）工具，它可以把一个单词表达成一个由实数组成的向量，这些向量捕捉到了单词之间一些语义特性，比如相似性（similarity）、类比性（analogy）等。\n",
    "\n",
    "## 优缺点\n",
    "优点:\n",
    "● 充分利用了全局共现统计信息，使得词向量可以捕捉到词语之间的复杂关系。\n",
    "● 通过对共现矩阵进行处理，GloVe 的训练速度较快，适合大规模语料库。\n",
    "● 生成的词向量在语义上具有较强的解释力，可以很好地应用于各种自然语言处理任务，如文本分类、情感分析、问答系统等。\n",
    "\n",
    "缺点：\n",
    "● 每个词只有一个固定的向量表示，无法处理多义词的不同语义。\n",
    "● 通常需要大规模的语料库来获得高质量的词向量表示。\n",
    "● 尽管训练过程可以并行化，但仍需要较高的计算资源和时间来训练高质量embeddings。\n",
    "● 虽然关注单词之间的共现频率，但忽略了语法结构。\n",
    "\n",
    "## 应用场景\n",
    "● 文本分析\n",
    "● 信息检索\n",
    "● 问答系统\n",
    "\n",
    "\n"
   ],
   "metadata": {
    "collapsed": false
   }
  }
 ],
 "metadata": {
  "kernelspec": {
   "display_name": "Python 3",
   "language": "python",
   "name": "python3"
  },
  "language_info": {
   "codemirror_mode": {
    "name": "ipython",
    "version": 2
   },
   "file_extension": ".py",
   "mimetype": "text/x-python",
   "name": "python",
   "nbconvert_exporter": "python",
   "pygments_lexer": "ipython2",
   "version": "2.7.6"
  }
 },
 "nbformat": 4,
 "nbformat_minor": 0
}
