{
 "cells": [
  {
   "cell_type": "markdown",
   "source": [
    "# GLOVE\n",
    "\n",
    "GloVe (Global Vectors for Word Representation)是一种无监督的文本向量化的学习算法，由斯坦福大学的Jeffrey Pennington等在2014年提出。它通过捕捉单词在大规模语料库中的**共现统计信息**，生成高质量的词向量。\n",
    "GloVe的作者认为使用共现词的概率的比可以更好地区分相关和无关的词，因此**GloVe的核心是共现矩阵和词对共现概率**。共现矩阵中的每个元素Xi,j表示词j出现在词i的上下文中的次数。\n",
    "GloVe 的核心是通过分析语料库中单词共现的频率来建立对语料库中单词之间关系的全面理解。\n",
    "\n",
    "> 一个基于全局词频统计（count-based & overall statistics）的词表征（word representation）工具，它可以把一个单词表达成一个由实数组成的向量，这些向量捕捉到了单词之间一些语义特性，比如相似性（similarity）、类比性（analogy）等。\n",
    ">\n",
    "> Sikp-Gram 和 CBOW 模型利用每个单词的上下文窗口信息作为监督信号，自监督地对语料库进行学习，而 LSA 模型则基于词共现矩阵通过矩阵分解得到，全局统计信息和局部信息都对词表示学习提供有效信息。全局向量（Global Vectors for Word Representation，GloVe）模型则结合了上述模型的思想，从共现概率的角度分析并改进了 Skip-Gram 模型，既使用文本中局部的上下文信息，又对语料库的全局共现统计数据加以利用。\n",
    ">\n",
    "\n",
    "GloVe 基于单词上下文矩阵分解技术。它首先创建一个相当大的（单词 x 上下文）共现数据矩阵，在其中计算单词在每个“单词”（行）的特定“上下文”（列）中出现的次数。\n",
    "有很多“上下文”，因为它们的大小本质上是组合的。当这个矩阵被分解时，会产生一个低维（单词 x 特征）矩阵，每行创建对应单词的向量表示。通常，这是通过减少“重建损失”来实现的。这种损失寻找可以解释高维数据中大部分方差的低维模型。\n",
    "GloVe 使用整个文本语料库的统计数据创建显式单词上下文或单词共现矩阵，而不是像 Word2Vec 那样使用窗口来定义本地上下文。\n",
    "\n",
    "## 优缺点\n",
    "优点:\n",
    "● 充分利用了全局共现统计信息，使得词向量可以捕捉到词语之间的复杂关系。\n",
    "● 通过对共现矩阵进行处理，GloVe 的训练速度较快，适合大规模语料库。\n",
    "● 生成的词向量在语义上具有较强的解释力，可以很好地应用于各种自然语言处理任务，如文本分类、情感分析、问答系统等。\n",
    "\n",
    "缺点：\n",
    "● 每个词只有一个固定的向量表示，无法处理多义词的不同语义。\n",
    "● 通常需要大规模的语料库来获得高质量的词向量表示。\n",
    "● 尽管训练过程可以并行化，但仍需要较高的计算资源和时间来训练高质量embeddings。\n",
    "● 虽然关注单词之间的共现频率，但忽略了语法结构。\n",
    "\n",
    "## 应用场景\n",
    "● 文本分析\n",
    "● 信息检索\n",
    "● 问答系统\n",
    "● 机器翻译\n",
    "\n",
    "**GloVe 和 Word2Vec 都是生成词嵌入的重要技术。 GloVe 强调捕获全局单词共现来导出单词表示，而 Word2Vec 则侧重于局部上下文并通过神经网络进行学习。两者之间的选择通常取决于 NLP 任务的具体需求、数据集特征以及可用于训练和推理的计算资源。**"
   ],
   "metadata": {
    "collapsed": false
   }
  },
  {
   "cell_type": "code",
   "execution_count": 1,
   "outputs": [
    {
     "name": "stdout",
     "output_type": "stream",
     "text": [
      "3.7.16 (default, Jan 17 2023, 16:06:28) [MSC v.1916 64 bit (AMD64)]\n"
     ]
    }
   ],
   "source": [
    "import sys\n",
    "print(sys.version)"
   ],
   "metadata": {
    "collapsed": false
   }
  },
  {
   "cell_type": "code",
   "execution_count": 6,
   "outputs": [],
   "source": [
    "# !pip install glove-py\n",
    "# !pip install glove-python-binary\n",
    "# !pip install glove_python\n",
    "# !pip install glove-python3\n",
    "## 查了一圈之后，在安装glove的时候，与python环境冲突，由于glove这个包不更新了，导致无法安装，你可以试试在python3.7、3.8安装\n",
    "## 因此以下代码复制的别人的"
   ],
   "metadata": {
    "collapsed": false
   }
  },
  {
   "cell_type": "code",
   "execution_count": null,
   "outputs": [],
   "source": [
    "from glove import Glove, Corpus\n",
    "\n",
    "# 准备数据\n",
    "sentences = [['我', '喜欢', '编程'], ['编程', '很有趣']]\n",
    "\n",
    "# 创建语料库\n",
    "corpus = Corpus()\n",
    "corpus.fit(sentences, window=10)\n",
    "\n",
    "# 训练模型\n",
    "glove = Glove(no_components=100, learning_rate=0.05)\n",
    "glove.fit(corpus.matrix, epochs=10, no_threads=4, verbose=True)\n",
    "glove.add_dictionary(corpus.dictionary)\n",
    "\n",
    "# 保存模型\n",
    "glove.save('glove.model')"
   ],
   "metadata": {
    "collapsed": false
   }
  },
  {
   "cell_type": "code",
   "execution_count": null,
   "outputs": [],
   "source": [
    "# 加载模型\n",
    "glove = Glove.load('glove.model')\n",
    "\n",
    "# 查找相似词\n",
    "similar_words = glove.most_similar('编程', number=5)\n",
    "print(similar_words)"
   ],
   "metadata": {
    "collapsed": false
   }
  },
  {
   "cell_type": "code",
   "execution_count": null,
   "outputs": [],
   "source": [
    "from sklearn.svm import SVC\n",
    "from sklearn.pipeline import make_pipeline\n",
    "from sklearn.preprocessing import StandardScaler\n",
    "\n",
    "# 假设我们有一个文本分类任务\n",
    "texts = ['我喜欢编程', '编程很有趣']\n",
    "labels = [0, 1]\n",
    "\n",
    "# 将文本转换为词向量\n",
    "vectorized_texts = [sum(glove.word_vectors[glove.dictionary[word]] for word in text if word in glove.dictionary) for text in texts]\n",
    "\n",
    "# 使用 SVM 进行分类\n",
    "clf = make_pipeline(StandardScaler(), SVC(gamma='auto'))\n",
    "clf.fit(vectorized_texts, labels)"
   ],
   "metadata": {
    "collapsed": false
   }
  },
  {
   "cell_type": "code",
   "execution_count": null,
   "outputs": [],
   "source": [
    "similar_words = glove.most_similar('编程', number=5)\n",
    "print(similar_words)"
   ],
   "metadata": {
    "collapsed": false
   }
  },
  {
   "cell_type": "markdown",
   "source": [
    "## 学习资源\n",
    "\n",
    "● [GloVe](https://nlp.stanford.edu/projects/glove/)\n",
    "● [GloVe: Global Vectors for Word Representation](https://arxiv.org/abs/1301.3781)\n",
    "\n",
    "● [GloVe Embeddings](https://spotintelligence.com/2023/11/27/glove-embedding/)\n",
    "\n",
    "● [GloVe的Python实现](https://mp.weixin.qq.com/s/ioHLoYvvNHUBnX_6Ut_myQ)\n",
    "\n",
    "● [大模型基础教程：词向量](https://mp.weixin.qq.com/s/qYkgLZSGij-4mSMTV1Wjnw)\n",
    "\n",
    "\n",
    "## 代码学习\n",
    "\n",
    "● [预训练Glove词向量可视化](https://mp.weixin.qq.com/s/BDtrlea6ehCYImY-zT6ggA)\n",
    "\n",
    "● [在 PyTorch 中借助 GloVe 词嵌入完成情感分析](https://mp.weixin.qq.com/s/nXOlL-TBVYRbeg3lojRfQg)\n",
    "\n",
    "● [Word2vec, Fasttext, Glove, Elmo, Bert, Flair训练词向量教程+数据+源码](https://mp.weixin.qq.com/s/537tA1NVKhuFN1Thp7x9cw)\n",
    "\n",
    "● [【NLP】GloVe的Python实现](https://blog.csdn.net/fengdu78/article/details/118948663)\n",
    "● [nlp-paper-implementation: GloVe](https://github.com/pengyan510/nlp-paper-implementation)\n",
    "\n"
   ],
   "metadata": {
    "collapsed": false
   }
  },
  {
   "cell_type": "code",
   "execution_count": 6,
   "outputs": [],
   "source": [],
   "metadata": {
    "collapsed": false
   }
  },
  {
   "cell_type": "markdown",
   "source": [],
   "metadata": {
    "collapsed": false
   }
  }
 ],
 "metadata": {
  "kernelspec": {
   "name": "python3",
   "language": "python",
   "display_name": "Python 3 (ipykernel)"
  },
  "language_info": {
   "codemirror_mode": {
    "name": "ipython",
    "version": 2
   },
   "file_extension": ".py",
   "mimetype": "text/x-python",
   "name": "python",
   "nbconvert_exporter": "python",
   "pygments_lexer": "ipython2",
   "version": "2.7.6"
  }
 },
 "nbformat": 4,
 "nbformat_minor": 0
}
