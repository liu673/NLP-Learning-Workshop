{
 "cells": [
  {
   "cell_type": "markdown",
   "source": [
    "# N-Gram模型（统计语言模型）\n",
    "\n",
    "N-Gram 表示，定义一个长度为 N，步长为 1 的滑动窗口，切分原字符串得到的词段。假设 N = 2 时得到一个词段 w1w2，得到 P(w2|w1) 即 w1 出现时 w2 的概率，计算所有滑动窗口中词段的概率。\n",
    "常用的有三种模型：\n",
    "unigram：一元模型，单个word\n",
    "bigram：二元模型，双word\n",
    "trigram：三元模型，3 word\n",
    "\n",
    "## 优点与缺点\n",
    "\n",
    "优点：\n",
    "● 考虑了词的顺序\n",
    "\n",
    "缺点：\n",
    "● 无法处理未登录词\n",
    "● 词向量急剧膨胀\n",
    "\n",
    "## 应用场景\n",
    "● 语言模型：用于预测下一个单词，以实现自动完成、自动纠错等功能。（使用马尔科夫假设生成文本）\n",
    "● 文本分类：用于文本分类，如情感分析、新闻分类等。\n",
    "● 机器翻译：用于机器翻译，通过生成 N-gram 来预测下一个单词。\n",
    "● 语音识别：用于语音识别，通过生成 N-gram 来预测下一个语音片段。\n",
    "● 文本摘要：用于文本摘要，通过生成 N-gram 来预测下一个单词。\n",
    "● 语言生成：用于语言生成，通过生成 N-gram 来生成新文本。\n"
   ],
   "metadata": {
    "collapsed": false
   }
  },
  {
   "cell_type": "code",
   "execution_count": 3,
   "outputs": [
    {
     "name": "stdout",
     "output_type": "stream",
     "text": [
      "['John likes', 'likes to', 'to watch', 'watch moives,', 'moives, Mary', 'Mary likes', 'likes too.']\n",
      "['John also', 'also likes', 'likes to', 'to watch', 'watch football', 'football games.']\n",
      "句子: 'John likes to watch moives, Mary likes too.'\n",
      "N-gram (n=2): ['John likes', 'likes to', 'to watch', 'watch moives,', 'moives, Mary', 'Mary likes', 'likes too.']\n",
      "\n",
      "句子: 'John also likes to watch football games.'\n",
      "N-gram (n=2): ['John also', 'also likes', 'likes to', 'to watch', 'watch football', 'football games.']\n",
      "\n"
     ]
    }
   ],
   "source": [
    "import os\n",
    "\n",
    "# 读取文件路径\n",
    "file_path = os.path.join(\"./data\", \"corpus.txt\")\n",
    "\n",
    "# 从文件中读取语料库\n",
    "with open(file_path, encoding=\"utf-8\") as f:\n",
    "    corpus = f.readlines()\n",
    "\n",
    "\n",
    "# 定义生成 N-gram 的函数\n",
    "def generate_ngrams(text, n=2):\n",
    "    \"\"\"\n",
    "    生成词级别的 N-gram\n",
    "    \"\"\"\n",
    "    words = text.split()\n",
    "    ngrams = [' '.join(words[i:i + n]) for i in range(len(words) - n + 1)]\n",
    "    return ngrams\n",
    "\n",
    "\n",
    "# 生成 N-gram\n",
    "n = 2  # 可以调整 N 的大小\n",
    "ngram_corpus = [generate_ngrams(sentence, n=n) for sentence in corpus]\n",
    "\n",
    "# 打印 N-gram 结果\n",
    "for sentence, ngrams in zip(corpus, ngram_corpus):\n",
    "    print(f\"句子: '{sentence.strip()}'\")\n",
    "    print(f\"N-gram (n={n}): {ngrams}\\n\")\n"
   ],
   "metadata": {
    "collapsed": false
   }
  },
  {
   "cell_type": "code",
   "execution_count": 2,
   "outputs": [
    {
     "name": "stdout",
     "output_type": "stream",
     "text": [
      "句子: 'John likes to watch moives, Mary likes too.'\n",
      "字符级别的 N-gram (n=2): ['Jo', 'oh', 'hn', 'n ', ' l', 'li', 'ik', 'ke', 'es', 's ', ' t', 'to', 'o ', ' w', 'wa', 'at', 'tc', 'ch', 'h ', ' m', 'mo', 'oi', 'iv', 've', 'es', 's,', ', ', ' M', 'Ma', 'ar', 'ry', 'y ', ' l', 'li', 'ik', 'ke', 'es', 's ', ' t', 'to', 'oo', 'o.', '.\\n']\n",
      "\n",
      "句子: 'John also likes to watch football games.'\n",
      "字符级别的 N-gram (n=2): ['Jo', 'oh', 'hn', 'n ', ' a', 'al', 'ls', 'so', 'o ', ' l', 'li', 'ik', 'ke', 'es', 's ', ' t', 'to', 'o ', ' w', 'wa', 'at', 'tc', 'ch', 'h ', ' f', 'fo', 'oo', 'ot', 'tb', 'ba', 'al', 'll', 'l ', ' g', 'ga', 'am', 'me', 'es', 's.', '.\\n']\n",
      "\n"
     ]
    }
   ],
   "source": [
    "# 定义生成字符级别的 N-gram 的函数\n",
    "def generate_char_ngrams(text, n=2):\n",
    "    \"\"\"\n",
    "    生成字符级别的 N-gram。\n",
    "    \"\"\"\n",
    "    ngrams = [text[i:i + n] for i in range(len(text) - n + 1)]\n",
    "    return ngrams\n",
    "\n",
    "\n",
    "# 生成字符级别的 N-gram\n",
    "char_n = 2  # 可以调整 N 的大小\n",
    "char_ngram_corpus = [generate_char_ngrams(sentence, n=char_n) for sentence in corpus]\n",
    "\n",
    "# 打印字符级别的 N-gram 结果\n",
    "for sentence, char_ngrams in zip(corpus, char_ngram_corpus):\n",
    "    print(f\"句子: '{sentence.strip()}'\")\n",
    "    print(f\"字符级别的 N-gram (n={char_n}): {char_ngrams}\\n\")"
   ],
   "metadata": {
    "collapsed": false
   }
  }
 ],
 "metadata": {
  "kernelspec": {
   "display_name": "Python 3",
   "language": "python",
   "name": "python3"
  },
  "language_info": {
   "codemirror_mode": {
    "name": "ipython",
    "version": 2
   },
   "file_extension": ".py",
   "mimetype": "text/x-python",
   "name": "python",
   "nbconvert_exporter": "python",
   "pygments_lexer": "ipython2",
   "version": "2.7.6"
  }
 },
 "nbformat": 4,
 "nbformat_minor": 0
}
