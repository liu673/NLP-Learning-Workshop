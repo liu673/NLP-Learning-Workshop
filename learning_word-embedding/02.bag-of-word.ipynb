{
 "cells": [
  {
   "cell_type": "markdown",
   "source": [
    "# Bag of Word\n",
    "\n",
    "Bag of Words（BoW）又称词袋模型，是一种简单而有效的文本向量化方法。词袋模型目前没有归属一个具体的发明者，而是在信息检索、文本分类和自然语言处理等领域中逐渐发展演变出来的一种常用的文本表示方法。One-Hot编码虽然完成了数据从非数值到数值的转变，但在文本分类，特征提取等方面作用十分有限，且每个词都对应一个稀疏向量，存储效率较低。词袋模型将文本看作是单词的无序集合，忽略词的顺序和语法，只关注词的出现频率。因此词袋模型在One-Hot编码的基础上提升了文本向量化的效果，并减少了存储负担。\n",
    "\n",
    "对于句子、篇章，常用的离散表示方法是词袋模型，词袋模型以 One-Hot 为基础，忽略词表中词的顺序和语法关系， 通过记录词表中的每一个词在该文本中出现的频次来表示该词在文本中的重要程度，解决了 One-Hot 未能考虑词频的问题\n",
    "词袋(Bag Of Word) 模型是最早的以词语为基本单元的文本向量化方法。词袋模型，也称为**计数向量表示(Count Vectors)**. 文档的向量表示可以直接使用单词的向量进行求和得到\n",
    "\n",
    "\n",
    "## 优点与缺点\n",
    "\n",
    "优点：\n",
    "\n",
    "● 简单易实现。\n",
    "\n",
    "● 对于小规模数据集，词袋模型的计算效率很高。\n",
    "\n",
    "缺点：\n",
    "\n",
    "● 对于大型词汇表，词袋模型生成的向量维度很高，从而导致内存使用量大。\n",
    "\n",
    "● 完全忽略了词的顺序，无法捕捉句子的语法和结构信息。\n",
    "\n",
    "● 仅仅统计词频，而无法捕捉词与词之间的语义关系。\n",
    "\n",
    "\n",
    "## 应用场景\n",
    "\n",
    "● 作为一种基础的文本向量化方法，词袋模型可用于简单的文本处理任务，也可结合其他技术而用于更复杂的场景中。"
   ],
   "metadata": {
    "collapsed": false
   }
  },
  {
   "cell_type": "code",
   "execution_count": 11,
   "outputs": [
    {
     "data": {
      "text/plain": "   John  Mary  also  football  games.  likes  moives,  to  too.  watch\n0     1     1     0         0       0      2        1   1     1      1\n1     1     0     1         1       1      1        0   1     0      1",
      "text/html": "<div>\n<style scoped>\n    .dataframe tbody tr th:only-of-type {\n        vertical-align: middle;\n    }\n\n    .dataframe tbody tr th {\n        vertical-align: top;\n    }\n\n    .dataframe thead th {\n        text-align: right;\n    }\n</style>\n<table border=\"1\" class=\"dataframe\">\n  <thead>\n    <tr style=\"text-align: right;\">\n      <th></th>\n      <th>John</th>\n      <th>Mary</th>\n      <th>also</th>\n      <th>football</th>\n      <th>games.</th>\n      <th>likes</th>\n      <th>moives,</th>\n      <th>to</th>\n      <th>too.</th>\n      <th>watch</th>\n    </tr>\n  </thead>\n  <tbody>\n    <tr>\n      <th>0</th>\n      <td>1</td>\n      <td>1</td>\n      <td>0</td>\n      <td>0</td>\n      <td>0</td>\n      <td>2</td>\n      <td>1</td>\n      <td>1</td>\n      <td>1</td>\n      <td>1</td>\n    </tr>\n    <tr>\n      <th>1</th>\n      <td>1</td>\n      <td>0</td>\n      <td>1</td>\n      <td>1</td>\n      <td>1</td>\n      <td>1</td>\n      <td>0</td>\n      <td>1</td>\n      <td>0</td>\n      <td>1</td>\n    </tr>\n  </tbody>\n</table>\n</div>"
     },
     "execution_count": 11,
     "metadata": {},
     "output_type": "execute_result"
    }
   ],
   "source": [
    "import os\n",
    "import pandas as pd\n",
    "\n",
    "# 文本数据\n",
    "# corpus = [\"The cat sat the mat\", \"The dog ate my homework\"]\n",
    "\n",
    "file_path = os.path.join(\"./data\", \"corpus.txt\")\n",
    "with open(file_path, encoding=\"utf-8\") as f:\n",
    "    corpus = f.readlines()\n",
    "\n",
    "# 构建词汇表\n",
    "vocab = sorted(set(\" \".join(corpus).split()))\n",
    "word_to_idx = {word: idx for idx, word in enumerate(vocab)}\n",
    "\n",
    "# 获取词汇表大小\n",
    "vocab_size = len(vocab)\n",
    "\n",
    "# print(\"词汇表:\", vocab)\n",
    "# print(\"索引映射:\", word_to_idx)\n",
    "\n",
    "\n",
    "# 将文本转换为词袋表示\n",
    "def text_to_bag_of_words(text, vocab_size, word_to_idx):\n",
    "    bag_of_words = [0] * vocab_size\n",
    "\n",
    "    # 计算每个单词出现的次数\n",
    "    words = text.split()\n",
    "    for word in words:\n",
    "        if word in word_to_idx:\n",
    "            idx = word_to_idx[word]\n",
    "            bag_of_words[idx] += 1\n",
    "\n",
    "    return bag_of_words\n",
    "\n",
    "\n",
    "# 将语料库中的每句话转换为词袋表示\n",
    "bag_of_words_corpus = [text_to_bag_of_words(sentence, vocab_size, word_to_idx) for sentence in corpus]\n",
    "\n",
    "# 打印词袋表示结果\n",
    "# for sentence, bow in zip(corpus, bag_of_words_corpus):\n",
    "#     print(f\"句子: '{sentence.strip()}'\")\n",
    "#     print(f\"词汇: {vocab}\")\n",
    "#     print(f\"词袋表示: {bow}\")\n",
    "df = pd.DataFrame(bag_of_words_corpus, columns=vocab)\n",
    "df"
   ],
   "metadata": {
    "collapsed": false
   }
  },
  {
   "cell_type": "code",
   "execution_count": 8,
   "outputs": [
    {
     "data": {
      "text/plain": "   John  Mary  also  football  games  likes  moives  to  too  watch\n0     1     1     0         0      0      2       1   1    1      1\n1     1     0     1         1      1      1       0   1    0      1",
      "text/html": "<div>\n<style scoped>\n    .dataframe tbody tr th:only-of-type {\n        vertical-align: middle;\n    }\n\n    .dataframe tbody tr th {\n        vertical-align: top;\n    }\n\n    .dataframe thead th {\n        text-align: right;\n    }\n</style>\n<table border=\"1\" class=\"dataframe\">\n  <thead>\n    <tr style=\"text-align: right;\">\n      <th></th>\n      <th>John</th>\n      <th>Mary</th>\n      <th>also</th>\n      <th>football</th>\n      <th>games</th>\n      <th>likes</th>\n      <th>moives</th>\n      <th>to</th>\n      <th>too</th>\n      <th>watch</th>\n    </tr>\n  </thead>\n  <tbody>\n    <tr>\n      <th>0</th>\n      <td>1</td>\n      <td>1</td>\n      <td>0</td>\n      <td>0</td>\n      <td>0</td>\n      <td>2</td>\n      <td>1</td>\n      <td>1</td>\n      <td>1</td>\n      <td>1</td>\n    </tr>\n    <tr>\n      <th>1</th>\n      <td>1</td>\n      <td>0</td>\n      <td>1</td>\n      <td>1</td>\n      <td>1</td>\n      <td>1</td>\n      <td>0</td>\n      <td>1</td>\n      <td>0</td>\n      <td>1</td>\n    </tr>\n  </tbody>\n</table>\n</div>"
     },
     "execution_count": 8,
     "metadata": {},
     "output_type": "execute_result"
    }
   ],
   "source": [
    "import pandas as pd\n",
    "from sklearn.feature_extraction.text import CountVectorizer\n",
    "\n",
    "count_vec = CountVectorizer(stop_words=None, lowercase=False)\n",
    "# transform\n",
    "feature = count_vec.fit_transform(corpus)\n",
    "\n",
    "# create dataframe\n",
    "df = pd.DataFrame(feature.toarray(), columns=count_vec.get_feature_names_out())\n",
    "df\n"
   ],
   "metadata": {
    "collapsed": false
   }
  }
 ],
 "metadata": {
  "kernelspec": {
   "display_name": "Python 3",
   "language": "python",
   "name": "python3"
  },
  "language_info": {
   "codemirror_mode": {
    "name": "ipython",
    "version": 2
   },
   "file_extension": ".py",
   "mimetype": "text/x-python",
   "name": "python",
   "nbconvert_exporter": "python",
   "pygments_lexer": "ipython2",
   "version": "2.7.6"
  }
 },
 "nbformat": 4,
 "nbformat_minor": 0
}
